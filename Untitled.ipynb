{
 "cells": [
  {
   "cell_type": "code",
   "execution_count": 1,
   "metadata": {},
   "outputs": [],
   "source": [
    "import cv2\n",
    "import numpy as np\n",
    "import matplotlib.pyplot as plt"
   ]
  },
  {
   "cell_type": "code",
   "execution_count": 2,
   "metadata": {},
   "outputs": [
    {
     "data": {
      "text/plain": [
       "'3.4.3'"
      ]
     },
     "execution_count": 2,
     "metadata": {},
     "output_type": "execute_result"
    }
   ],
   "source": [
    "cv2.__version__"
   ]
  },
  {
   "cell_type": "code",
   "execution_count": 3,
   "metadata": {},
   "outputs": [],
   "source": [
    "DATA_PATH = \"D:\\\\data\\\\\""
   ]
  },
  {
   "cell_type": "code",
   "execution_count": 59,
   "metadata": {},
   "outputs": [],
   "source": [
    "data = np.load(DATA_PATH+\"train_data_125.npy\")"
   ]
  },
  {
   "cell_type": "code",
   "execution_count": 60,
   "metadata": {},
   "outputs": [],
   "source": [
    "def make_purple_white(image):\n",
    "    return_img = np.zeros_like(image[:,:,1])\n",
    "    image = image.astype(dtype=np.uint16)\n",
    "    print(image.dtype)\n",
    "    return_mask = np.logical_and(image[:,:,1] +10 < image[:,:,0], image[:,:,1] +10  < image[:,:,2])\n",
    "\n",
    "    return_img[return_mask] = 255\n",
    "    return return_img.astype(dtype=np.uint8)"
   ]
  },
  {
   "cell_type": "code",
   "execution_count": 76,
   "metadata": {},
   "outputs": [],
   "source": [
    "def make_blue_white(image):\n",
    "    return_img = np.zeros_like(image[:,:,1])\n",
    "    #image = image.astype(dtype=np.uint16)\n",
    "    print(image.dtype)\n",
    "    #return_mask = np.logical_and(image[:,:,1] +10 < image[:,:,0], image[:,:,1] +10  < image[:,:,2])\n",
    "\n",
    "    return_img[image[:,:,2] >200] = 255\n",
    "    return return_img.astype(dtype=np.uint8)"
   ]
  },
  {
   "cell_type": "code",
   "execution_count": 77,
   "metadata": {},
   "outputs": [],
   "source": [
    "def crop_image(image,h1,h2,w1,w2):\n",
    "    height = image.shape[0]\n",
    "    width = image.shape[1]\n",
    "\n",
    "    return image[h1:h2,w1:w2,:]"
   ]
  },
  {
   "cell_type": "code",
   "execution_count": 78,
   "metadata": {},
   "outputs": [],
   "source": [
    "def field_of_view(image):\n",
    "    height = image.shape[0]\n",
    "    width = image.shape[1]\n",
    "    fields = np.array([\n",
    "        [(0,75), (0, 235), (width, 235), (width, 75)],\n",
    "        ])\n",
    "    mask = np.zeros_like(image)\n",
    "    cv2.fillPoly(mask, fields, (255,255,255))\n",
    "    masked_image = cv2.bitwise_and(image, mask)\n",
    "    return masked_image"
   ]
  },
  {
   "cell_type": "code",
   "execution_count": 84,
   "metadata": {},
   "outputs": [],
   "source": [
    "h1,h2,w1,w2 = 250,280,220,260"
   ]
  },
  {
   "cell_type": "markdown",
   "metadata": {},
   "source": [
    "## "
   ]
  },
  {
   "cell_type": "code",
   "execution_count": 85,
   "metadata": {},
   "outputs": [
    {
     "name": "stdout",
     "output_type": "stream",
     "text": [
      "uint8\n",
      "[1, 0, 0, 0, 0]\n",
      "[1, 0, 0, 0, 0]\n",
      "['W', 'W', 'WA', 'A', '', '', '', '', '', '', '', '', '', '', '', '', '', '', '', '', '', '', '', '', '', '', '', '', '', 'W', 'W', 'W', 'W', 'W', 'W', 'WA', 'W', 'W', 'W', 'W', 'W', 'W', 'W', 'W', 'WD', 'W', '', '', '', '', '', '', '', '', '', '', '', '', '', '', '', '', '', '', '', '', 'D', '', '', '', '', '', '', 'W', 'W', 'W', 'W', 'W', 'W', 'W', 'W', 'W', 'W', '', '', 'A', '', '', '', '', '', '', '', '', '', '', 'W', 'W', 'W', 'W']\n"
     ]
    },
    {
     "data": {
      "image/png": "[encoded data removed]",
      "text/plain": [
       "<matplotlib.figure.Figure at 0x6b6211fb38>"
      ]
     },
     "metadata": {},
     "output_type": "display_data"
    },
    {
     "data": {
      "image/png": "[encoded data removed]",
      "text/plain": [
       "<matplotlib.figure.Figure at 0x6b62c0ccf8>"
      ]
     },
     "metadata": {},
     "output_type": "display_data"
    }
   ],
   "source": [
    "for d in data[310:]:\n",
    "    plt.figure(figsize=(10,10))\n",
    "    d_rgb = cv2.cvtColor(d[0],cv2.COLOR_BGR2RGB)\n",
    "    #plt.imshow(d[0])\n",
    "    mp = crop_image(d_rgb,h1,h2,w1,w2)\n",
    "    plt.imshow(mp)\n",
    "    plt.plot()\n",
    "    plt.figure()\n",
    "    #Y = np.zeros_like(mp[:,:,1])\n",
    "    #Y = mp[:, :, 0] * 65.481 + mp[:, :, 1] * 128.553 + mp[:, :, 2] * 24.966 + 16\n",
    "    plt.imshow(make_blue_white(mp), cmap='gray')\n",
    "    #bin_map = make_purple_white(mp)\n",
    "    #cv2.imshow('map',bin_map)\n",
    "    #cv2.resizeWindow('map',2*bin_map.shape[0],2*bin_map.shape[1])\n",
    "    plt.plot()\n",
    "   \n",
    "    print(d[1])\n",
    "    print(d[2])\n",
    "    print(d[3])\n",
    "    if(cv2.waitKey(25) & 0xFF == ord('q')):\n",
    "        cv2.destroyAllWindows()\n",
    "        break\n",
    "    break"
   ]
  },
  {
   "cell_type": "code",
   "execution_count": null,
   "metadata": {},
   "outputs": [],
   "source": []
  },
  {
   "cell_type": "code",
   "execution_count": null,
   "metadata": {},
   "outputs": [],
   "source": []
  }
 ],
 "metadata": {
  "kernelspec": {
   "display_name": "Python 3",
   "language": "python",
   "name": "python3"
  },
  "language_info": {
   "codemirror_mode": {
    "name": "ipython",
    "version": 3
   },
   "file_extension": ".py",
   "mimetype": "text/x-python",
   "name": "python",
   "nbconvert_exporter": "python",
   "pygments_lexer": "ipython3",
   "version": "3.6.5"
  }
 },
 "nbformat": 4,
 "nbformat_minor": 2
}
